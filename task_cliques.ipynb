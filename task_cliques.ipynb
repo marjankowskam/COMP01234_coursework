{
 "cells": [
  {
   "cell_type": "code",
   "execution_count": 1,
   "metadata": {},
   "outputs": [
    {
     "name": "stderr",
     "output_type": "stream",
     "text": [
      "c:\\Users\\Dell 5520\\Anaconda3\\lib\\site-packages\\pandas\\compat\\_optional.py:138: UserWarning: Pandas requires version '2.7.0' or newer of 'numexpr' (version '2.6.9' currently installed).\n",
      "  warnings.warn(msg, UserWarning)\n"
     ]
    }
   ],
   "source": [
    "import networkx as nx\n",
    "\n",
    "import matplotlib.pyplot as plt\n",
    "import pandas as pd\n",
    "import numpy as np\n"
   ]
  },
  {
   "cell_type": "code",
   "execution_count": 2,
   "metadata": {},
   "outputs": [
    {
     "name": "stdout",
     "output_type": "stream",
     "text": [
      "    time     u     v grade_u grade_v\n",
      "0  31220  1558  1567      3B      3B\n",
      "1  31220  1560  1570      3B      3B\n",
      "2  31220  1567  1574      3B      3B\n",
      "3  31220  1632  1818      4B      4B\n",
      "4  31220  1632  1866      4B      4B\n",
      "     id grade gender\n",
      "0  1426    5B      M\n",
      "1  1427    5B      F\n",
      "2  1428    5B      M\n",
      "3  1429    5B      F\n",
      "4  1430    5B      M\n"
     ]
    }
   ],
   "source": [
    "df_original = pd.read_csv('data/primaryschool.csv', header=None, delimiter='\\t', names = ['time', 'u', 'v', 'grade_u', 'grade_v'])\n",
    "print(df_original.head())\n",
    "\n",
    "metadata = pd.read_csv('data/metadata.txt', header=None, delimiter='\\t', names = ['id', 'grade', 'gender'])\n",
    "print(metadata.head())"
   ]
  },
  {
   "cell_type": "code",
   "execution_count": 3,
   "metadata": {},
   "outputs": [],
   "source": [
    "df = df_original"
   ]
  },
  {
   "cell_type": "code",
   "execution_count": 5,
   "metadata": {},
   "outputs": [],
   "source": [
    "grade_dict = {\"1A\": \"red\", \"1B\": \"red\", \"2A\": \"orange\", \"2B\": \"orange\", \"3A\": \"gray\", \"3B\": \"gray\", \"4A\": \"cyan\", \"4B\": \"cyan\", \"5A\": \"blue\", \"5B\": \"blue\", \"Teachers\": \"black\"}\n",
    "grade_dict_more = {\"1A\": \"firebrick\", \"1B\": \"red\", \"2A\": \"orange\", \"2B\": \"sandybrown\", \"3A\": \"slategray\", \"3B\": \"gray\", \"4A\": \"darkturquoise\", \"4B\": \"cyan\", \"5A\": \"cornflowerblue\", \"5B\": \"blue\", \"Teachers\": \"black\"}\n",
    "\n",
    "node_grade = {}\n",
    "for _, row in metadata.iterrows():\n",
    "    node_grade[row['id']] = row['grade']"
   ]
  },
  {
   "cell_type": "code",
   "execution_count": 4,
   "metadata": {},
   "outputs": [],
   "source": [
    "group = {grade: metadata[metadata['grade'] == grade]['id'].tolist() for grade in metadata['grade'].unique()}\n",
    "group = {'1A': group['1A'], '1B': group['1B'], '5A': group['5A'], '5B': group['5B']}"
   ]
  },
  {
   "cell_type": "code",
   "execution_count": 7,
   "metadata": {},
   "outputs": [],
   "source": [
    "# G = nx.Graph()\n",
    "# for _, row in metadata.iterrows():\n",
    "#     if row['grade'] != \"Teachers\":\n",
    "#         G.add_node(row['id'], color=grade_dict_more[row['grade']])\n",
    "\n",
    "# for _, edge in df.iterrows():\n",
    "#     if node_grade[edge['u']] != \"Teachers\" and node_grade[edge['v']] != \"Teachers\":\n",
    "#         G.add_edge(edge['u'], edge['v'])\n"
   ]
  },
  {
   "cell_type": "code",
   "execution_count": 10,
   "metadata": {},
   "outputs": [
    {
     "name": "stdout",
     "output_type": "stream",
     "text": [
      "Grade: 1A\n",
      "Timestamp: 37120, Maximum clique size: 4\n",
      "Timestamp: 37140, Maximum clique size: 4\n",
      "Timestamp: 38600, Maximum clique size: 4\n",
      "Timestamp: 50840, Maximum clique size: 4\n",
      "Timestamp: 50880, Maximum clique size: 4\n",
      "Timestamp: 53320, Maximum clique size: 4\n",
      "Timestamp: 124440, Maximum clique size: 4\n",
      "Timestamp: 125060, Maximum clique size: 4\n",
      "Timestamp: 129340, Maximum clique size: 4\n",
      "Timestamp: 137280, Maximum clique size: 4\n",
      "Timestamp: 137920, Maximum clique size: 4\n",
      "Grade: 1B\n",
      "Timestamp: 36740, Maximum clique size: 4\n",
      "Timestamp: 36980, Maximum clique size: 4\n",
      "Timestamp: 37040, Maximum clique size: 4\n",
      "Timestamp: 37080, Maximum clique size: 4\n",
      "Timestamp: 37160, Maximum clique size: 4\n",
      "Timestamp: 37240, Maximum clique size: 4\n",
      "Timestamp: 38020, Maximum clique size: 4\n",
      "Timestamp: 38120, Maximum clique size: 4\n",
      "Timestamp: 54400, Maximum clique size: 4\n",
      "Timestamp: 54660, Maximum clique size: 4\n",
      "Timestamp: 55000, Maximum clique size: 4\n",
      "Timestamp: 55160, Maximum clique size: 4\n",
      "Timestamp: 57200, Maximum clique size: 4\n",
      "Timestamp: 123360, Maximum clique size: 4\n",
      "Timestamp: 123780, Maximum clique size: 4\n",
      "Timestamp: 123860, Maximum clique size: 4\n",
      "Timestamp: 124040, Maximum clique size: 4\n",
      "Timestamp: 124060, Maximum clique size: 4\n",
      "Timestamp: 124140, Maximum clique size: 4\n",
      "Timestamp: 124180, Maximum clique size: 4\n",
      "Timestamp: 124200, Maximum clique size: 4\n",
      "Timestamp: 124280, Maximum clique size: 4\n",
      "Timestamp: 124300, Maximum clique size: 4\n",
      "Timestamp: 124360, Maximum clique size: 4\n",
      "Timestamp: 124440, Maximum clique size: 4\n",
      "Timestamp: 129180, Maximum clique size: 4\n",
      "Timestamp: 131100, Maximum clique size: 4\n",
      "Timestamp: 131140, Maximum clique size: 4\n",
      "Timestamp: 132460, Maximum clique size: 4\n",
      "Timestamp: 134120, Maximum clique size: 4\n",
      "Timestamp: 134160, Maximum clique size: 4\n",
      "Timestamp: 134400, Maximum clique size: 4\n",
      "Timestamp: 134520, Maximum clique size: 4\n",
      "Timestamp: 134720, Maximum clique size: 4\n",
      "Timestamp: 135000, Maximum clique size: 4\n",
      "Timestamp: 135060, Maximum clique size: 4\n",
      "Timestamp: 135080, Maximum clique size: 4\n",
      "Timestamp: 135140, Maximum clique size: 4\n",
      "Timestamp: 135220, Maximum clique size: 4\n",
      "Timestamp: 135400, Maximum clique size: 4\n",
      "Timestamp: 135580, Maximum clique size: 4\n",
      "Timestamp: 135660, Maximum clique size: 4\n",
      "Timestamp: 135680, Maximum clique size: 4\n",
      "Timestamp: 135980, Maximum clique size: 4\n",
      "Timestamp: 136020, Maximum clique size: 4\n",
      "Timestamp: 136720, Maximum clique size: 4\n",
      "Timestamp: 143920, Maximum clique size: 4\n",
      "Timestamp: 143940, Maximum clique size: 4\n",
      "Timestamp: 143980, Maximum clique size: 4\n",
      "Timestamp: 144040, Maximum clique size: 4\n",
      "Timestamp: 144080, Maximum clique size: 4\n",
      "Timestamp: 144300, Maximum clique size: 4\n",
      "Timestamp: 144320, Maximum clique size: 4\n",
      "Timestamp: 144640, Maximum clique size: 4\n",
      "Timestamp: 144840, Maximum clique size: 4\n",
      "Timestamp: 144860, Maximum clique size: 4\n",
      "Timestamp: 144880, Maximum clique size: 4\n",
      "Timestamp: 145460, Maximum clique size: 4\n",
      "Timestamp: 145500, Maximum clique size: 4\n",
      "Timestamp: 145700, Maximum clique size: 4\n",
      "Timestamp: 145720, Maximum clique size: 4\n",
      "Timestamp: 145800, Maximum clique size: 4\n",
      "Timestamp: 145820, Maximum clique size: 4\n",
      "Grade: 5A\n",
      "Timestamp: 42580, Maximum clique size: 4\n",
      "Timestamp: 50980, Maximum clique size: 4\n",
      "Timestamp: 57760, Maximum clique size: 4\n",
      "Timestamp: 59260, Maximum clique size: 4\n",
      "Timestamp: 123260, Maximum clique size: 4\n",
      "Timestamp: 123500, Maximum clique size: 4\n",
      "Timestamp: 123900, Maximum clique size: 4\n",
      "Timestamp: 129700, Maximum clique size: 4\n",
      "Timestamp: 132120, Maximum clique size: 4\n",
      "Timestamp: 132340, Maximum clique size: 4\n",
      "Timestamp: 132540, Maximum clique size: 4\n",
      "Timestamp: 133680, Maximum clique size: 4\n",
      "Grade: 5B\n",
      "Timestamp: 35140, Maximum clique size: 4\n",
      "Timestamp: 35180, Maximum clique size: 4\n",
      "Timestamp: 36740, Maximum clique size: 4\n",
      "Timestamp: 45560, Maximum clique size: 4\n",
      "Timestamp: 57060, Maximum clique size: 4\n",
      "Timestamp: 57080, Maximum clique size: 4\n",
      "Timestamp: 57100, Maximum clique size: 4\n",
      "Timestamp: 57280, Maximum clique size: 4\n",
      "Timestamp: 57380, Maximum clique size: 4\n",
      "Timestamp: 126840, Maximum clique size: 4\n",
      "Timestamp: 131120, Maximum clique size: 4\n",
      "Timestamp: 131140, Maximum clique size: 4\n",
      "Timestamp: 131280, Maximum clique size: 4\n",
      "Timestamp: 142640, Maximum clique size: 4\n"
     ]
    }
   ],
   "source": [
    "\n",
    "timestamps = df['time'].unique()\n",
    "for grade, nodes in group.items():\n",
    "    print(f'Grade: {grade}')\n",
    "    df_group = df[df['u'].isin(nodes) & df['v'].isin(nodes)]\n",
    "    for t in timestamps:\n",
    "        df_t = df_group[df_group['time'] == t]\n",
    "        # are there k-clques for k>2?\n",
    "        G_t = nx.Graph()\n",
    "        for _, edge in df_t.iterrows():\n",
    "            if node_grade[edge['u']] != \"Teachers\" and node_grade[edge['v']] != \"Teachers\":\n",
    "                G_t.add_edge(edge['u'], edge['v'])\n",
    "        \n",
    "        cliques = list(nx.find_cliques(G_t))\n",
    "        if cliques:\n",
    "            size_max_clique = max(len(c) for c in cliques)\n",
    "            if size_max_clique > 3:\n",
    "                print(f'Timestamp: {t}, Maximum clique size: {size_max_clique}')"
   ]
  }
 ],
 "metadata": {
  "kernelspec": {
   "display_name": "base",
   "language": "python",
   "name": "python3"
  },
  "language_info": {
   "codemirror_mode": {
    "name": "ipython",
    "version": 3
   },
   "file_extension": ".py",
   "mimetype": "text/x-python",
   "name": "python",
   "nbconvert_exporter": "python",
   "pygments_lexer": "ipython3",
   "version": "3.7.3"
  }
 },
 "nbformat": 4,
 "nbformat_minor": 2
}
