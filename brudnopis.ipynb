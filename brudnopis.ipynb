{
 "cells": [
  {
   "cell_type": "code",
   "execution_count": 1,
   "metadata": {},
   "outputs": [
    {
     "name": "stdout",
     "output_type": "stream",
     "text": [
      "Failed to create temp directory \"C:\\Users\\Dell 5520\\AppData\\Local\\Temp\\conda-<RANDOM>\\\" "
     ]
    },
    {
     "name": "stderr",
     "output_type": "stream",
     "text": [
      "failed to create process.\n"
     ]
    },
    {
     "name": "stdout",
     "output_type": "stream",
     "text": [
      "\n"
     ]
    }
   ],
   "source": [
    "! conda update conda"
   ]
  },
  {
   "cell_type": "code",
   "execution_count": 2,
   "metadata": {},
   "outputs": [
    {
     "name": "stdout",
     "output_type": "stream",
     "text": [
      "Requirement already satisfied: networkx-temporal[draw] in c:\\users\\dell 5520\\anaconda3\\lib\\site-packages (1.2)\n",
      "Requirement already satisfied: networkx>=2.1 in c:\\users\\dell 5520\\anaconda3\\lib\\site-packages (from networkx-temporal[draw]) (2.6.3)\n",
      "Requirement already satisfied: pandas>=1.1.0 in c:\\users\\dell 5520\\anaconda3\\lib\\site-packages (from networkx-temporal[draw]) (1.3.5)\n",
      "Requirement already satisfied: matplotlib in c:\\users\\dell 5520\\anaconda3\\lib\\site-packages (from networkx-temporal[draw]) (3.4.3)\n",
      "Requirement already satisfied: scipy in c:\\users\\dell 5520\\anaconda3\\lib\\site-packages (from networkx-temporal[draw]) (1.2.1)\n",
      "Requirement already satisfied: python-dateutil>=2.7.3 in c:\\users\\dell 5520\\anaconda3\\lib\\site-packages (from pandas>=1.1.0->networkx-temporal[draw]) (2.9.0.post0)\n",
      "Requirement already satisfied: pytz>=2017.3 in c:\\users\\dell 5520\\anaconda3\\lib\\site-packages (from pandas>=1.1.0->networkx-temporal[draw]) (2018.9)\n",
      "Requirement already satisfied: numpy>=1.17.3 in c:\\users\\dell 5520\\anaconda3\\lib\\site-packages (from pandas>=1.1.0->networkx-temporal[draw]) (1.21.6)\n",
      "Requirement already satisfied: cycler>=0.10 in c:\\users\\dell 5520\\anaconda3\\lib\\site-packages (from matplotlib->networkx-temporal[draw]) (0.10.0)\n",
      "Requirement already satisfied: kiwisolver>=1.0.1 in c:\\users\\dell 5520\\anaconda3\\lib\\site-packages (from matplotlib->networkx-temporal[draw]) (1.0.1)\n",
      "Requirement already satisfied: pillow>=6.2.0 in c:\\users\\dell 5520\\anaconda3\\lib\\site-packages (from matplotlib->networkx-temporal[draw]) (8.4.0)\n",
      "Requirement already satisfied: pyparsing>=2.2.1 in c:\\users\\dell 5520\\anaconda3\\lib\\site-packages (from matplotlib->networkx-temporal[draw]) (2.3.1)\n",
      "Requirement already satisfied: six in c:\\users\\dell 5520\\anaconda3\\lib\\site-packages (from cycler>=0.10->matplotlib->networkx-temporal[draw]) (1.12.0)\n",
      "Requirement already satisfied: setuptools in c:\\users\\dell 5520\\anaconda3\\lib\\site-packages (from kiwisolver>=1.0.1->matplotlib->networkx-temporal[draw]) (40.8.0)\n"
     ]
    },
    {
     "name": "stderr",
     "output_type": "stream",
     "text": [
      "WARNING: Ignoring invalid distribution -illow (c:\\users\\dell 5520\\anaconda3\\lib\\site-packages)\n",
      "WARNING: Ignoring invalid distribution -illow (c:\\users\\dell 5520\\anaconda3\\lib\\site-packages)\n"
     ]
    }
   ],
   "source": [
    "! pip install \"networkx-temporal[draw]\""
   ]
  },
  {
   "cell_type": "code",
   "execution_count": 3,
   "metadata": {},
   "outputs": [
    {
     "name": "stderr",
     "output_type": "stream",
     "text": [
      "c:\\Users\\Dell 5520\\Anaconda3\\lib\\site-packages\\pandas\\compat\\_optional.py:138: UserWarning: Pandas requires version '2.7.0' or newer of 'numexpr' (version '2.6.9' currently installed).\n",
      "  warnings.warn(msg, UserWarning)\n"
     ]
    }
   ],
   "source": [
    "import networkx as nx\n",
    "import networkx_temporal as tx\n",
    "import matplotlib.pyplot as plt\n",
    "import pandas as pd\n",
    "import collections.abc\n"
   ]
  },
  {
   "cell_type": "code",
   "execution_count": 4,
   "metadata": {},
   "outputs": [
    {
     "name": "stdout",
     "output_type": "stream",
     "text": [
      "    time     u     v grade_u grade_v\n",
      "0  31220  1558  1567      3B      3B\n",
      "1  31220  1560  1570      3B      3B\n",
      "2  31220  1567  1574      3B      3B\n",
      "3  31220  1632  1818      4B      4B\n",
      "4  31220  1632  1866      4B      4B\n",
      "     id grade gender\n",
      "0  1426    5B      M\n",
      "1  1427    5B      F\n",
      "2  1428    5B      M\n",
      "3  1429    5B      F\n",
      "4  1430    5B      M\n"
     ]
    }
   ],
   "source": [
    "df = pd.read_csv('data/primaryschool.csv', header=None, delimiter='\\t', names = ['time', 'u', 'v', 'grade_u', 'grade_v'])\n",
    "print(df.head())\n",
    "\n",
    "metadata = pd.read_csv('data/metadata.txt', header=None, delimiter='\\t', names = ['id', 'grade', 'gender'])\n",
    "print(metadata.head())"
   ]
  },
  {
   "cell_type": "code",
   "execution_count": null,
   "metadata": {},
   "outputs": [
    {
     "ename": "NameError",
     "evalue": "name 'networkx' is not defined",
     "output_type": "error",
     "traceback": [
      "\u001b[1;31m---------------------------------------------------------------------------\u001b[0m",
      "\u001b[1;31mNameError\u001b[0m                                 Traceback (most recent call last)",
      "\u001b[1;32m~\\AppData\\Local\\Temp\\ipykernel_14492\\3271694316.py\u001b[0m in \u001b[0;36m<module>\u001b[1;34m\u001b[0m\n\u001b[1;32m----> 1\u001b[1;33m \u001b[0mnetworkx\u001b[0m \u001b[1;32mand\u001b[0m \u001b[0mNetworkX\u001b[0m\u001b[1;33m-\u001b[0m\u001b[0mTemporal\u001b[0m\u001b[1;33m\u001b[0m\u001b[1;33m\u001b[0m\u001b[0m\n\u001b[0m\u001b[0;32m      2\u001b[0m \u001b[1;31m#iterate over rows of primaryschool.csv\u001b[0m\u001b[1;33m\u001b[0m\u001b[1;33m\u001b[0m\u001b[1;33m\u001b[0m\u001b[0m\n\u001b[0;32m      3\u001b[0m \u001b[0mdf\u001b[0m \u001b[1;33m=\u001b[0m \u001b[0mpd\u001b[0m\u001b[1;33m.\u001b[0m\u001b[0mread_csv\u001b[0m\u001b[1;33m(\u001b[0m\u001b[1;34m'data/primaryschool.csv'\u001b[0m\u001b[1;33m,\u001b[0m \u001b[0mheader\u001b[0m\u001b[1;33m=\u001b[0m\u001b[1;32mNone\u001b[0m\u001b[1;33m,\u001b[0m \u001b[0mdelimiter\u001b[0m\u001b[1;33m=\u001b[0m\u001b[1;34m'\\t'\u001b[0m\u001b[1;33m,\u001b[0m \u001b[0mnames\u001b[0m \u001b[1;33m=\u001b[0m \u001b[1;33m[\u001b[0m\u001b[1;34m'time'\u001b[0m\u001b[1;33m,\u001b[0m \u001b[1;34m'u'\u001b[0m\u001b[1;33m,\u001b[0m \u001b[1;34m'v'\u001b[0m\u001b[1;33m,\u001b[0m \u001b[1;34m'grade_u'\u001b[0m\u001b[1;33m,\u001b[0m \u001b[1;34m'grade_v'\u001b[0m\u001b[1;33m]\u001b[0m\u001b[1;33m)\u001b[0m\u001b[1;33m\u001b[0m\u001b[1;33m\u001b[0m\u001b[0m\n\u001b[0;32m      4\u001b[0m \u001b[0mprint\u001b[0m\u001b[1;33m(\u001b[0m\u001b[0mdf\u001b[0m\u001b[1;33m.\u001b[0m\u001b[0mhead\u001b[0m\u001b[1;33m(\u001b[0m\u001b[1;33m)\u001b[0m\u001b[1;33m)\u001b[0m\u001b[1;33m\u001b[0m\u001b[1;33m\u001b[0m\u001b[0m\n\u001b[0;32m      5\u001b[0m \u001b[1;33m\u001b[0m\u001b[0m\n",
      "\u001b[1;31mNameError\u001b[0m: name 'networkx' is not defined"
     ]
    }
   ],
   "source": [
    "#networkx and NetworkX-Temporal\n",
    "#iterate over rows of primaryschool.csv\n",
    "df = pd.read_csv('data/primaryschool.csv', header=None, delimiter='\\t', names = ['time', 'u', 'v', 'grade_u', 'grade_v'])\n",
    "print(df.head())\n",
    "\n",
    "TG = tx.TemporalDiGraph()\n",
    "\n",
    "for _, edge in df.iterrows():\n",
    "    TG.add_edge(edge['u'], edge['v'], time=edge['time'])\n",
    "\n",
    "\n",
    "# Plot resulting object.\n",
    "G = TG.to_static() \n",
    "nx.draw(G, with_labels=True)\n",
    "plt.show()"
   ]
  },
  {
   "cell_type": "code",
   "execution_count": 7,
   "metadata": {},
   "outputs": [
    {
     "name": "stdout",
     "output_type": "stream",
     "text": [
      "Requirement already satisfied: raphtory in c:\\users\\dell 5520\\anaconda3\\lib\\site-packages (0.4.3)\n",
      "Requirement already satisfied: pandas>=1.3.3 in c:\\users\\dell 5520\\anaconda3\\lib\\site-packages (from raphtory) (1.3.5)\n",
      "Requirement already satisfied: pyvis>=0.3.2 in c:\\users\\dell 5520\\anaconda3\\lib\\site-packages (from raphtory) (0.3.2)\n",
      "Requirement already satisfied: networkx>=2.6.3 in c:\\users\\dell 5520\\anaconda3\\lib\\site-packages (from raphtory) (2.6.3)\n",
      "Requirement already satisfied: python-dateutil>=2.7.3 in c:\\users\\dell 5520\\anaconda3\\lib\\site-packages (from pandas>=1.3.3->raphtory) (2.9.0.post0)\n",
      "Requirement already satisfied: pytz>=2017.3 in c:\\users\\dell 5520\\anaconda3\\lib\\site-packages (from pandas>=1.3.3->raphtory) (2018.9)\n",
      "Requirement already satisfied: numpy>=1.17.3 in c:\\users\\dell 5520\\anaconda3\\lib\\site-packages (from pandas>=1.3.3->raphtory) (1.21.6)\n",
      "Requirement already satisfied: ipython>=5.3.0 in c:\\users\\dell 5520\\anaconda3\\lib\\site-packages (from pyvis>=0.3.2->raphtory) (7.34.0)\n",
      "Requirement already satisfied: jinja2>=2.9.6 in c:\\users\\dell 5520\\anaconda3\\lib\\site-packages (from pyvis>=0.3.2->raphtory) (3.1.4)\n",
      "Requirement already satisfied: jsonpickle>=1.4.1 in c:\\users\\dell 5520\\anaconda3\\lib\\site-packages (from pyvis>=0.3.2->raphtory) (3.4.2)\n",
      "Requirement already satisfied: setuptools>=18.5 in c:\\users\\dell 5520\\anaconda3\\lib\\site-packages (from ipython>=5.3.0->pyvis>=0.3.2->raphtory) (40.8.0)\n",
      "Requirement already satisfied: jedi>=0.16 in c:\\users\\dell 5520\\anaconda3\\lib\\site-packages (from ipython>=5.3.0->pyvis>=0.3.2->raphtory) (0.19.1)\n",
      "Requirement already satisfied: decorator in c:\\users\\dell 5520\\anaconda3\\lib\\site-packages (from ipython>=5.3.0->pyvis>=0.3.2->raphtory) (4.4.0)\n",
      "Requirement already satisfied: pickleshare in c:\\users\\dell 5520\\anaconda3\\lib\\site-packages (from ipython>=5.3.0->pyvis>=0.3.2->raphtory) (0.7.5)\n",
      "Requirement already satisfied: traitlets>=4.2 in c:\\users\\dell 5520\\anaconda3\\lib\\site-packages (from ipython>=5.3.0->pyvis>=0.3.2->raphtory) (5.9.0)\n",
      "Requirement already satisfied: prompt-toolkit!=3.0.0,!=3.0.1,<3.1.0,>=2.0.0 in c:\\users\\dell 5520\\anaconda3\\lib\\site-packages (from ipython>=5.3.0->pyvis>=0.3.2->raphtory) (2.0.9)\n",
      "Requirement already satisfied: pygments in c:\\users\\dell 5520\\anaconda3\\lib\\site-packages (from ipython>=5.3.0->pyvis>=0.3.2->raphtory) (2.3.1)\n",
      "Requirement already satisfied: backcall in c:\\users\\dell 5520\\anaconda3\\lib\\site-packages (from ipython>=5.3.0->pyvis>=0.3.2->raphtory) (0.1.0)\n",
      "Requirement already satisfied: matplotlib-inline in c:\\users\\dell 5520\\anaconda3\\lib\\site-packages (from ipython>=5.3.0->pyvis>=0.3.2->raphtory) (0.1.6)\n",
      "Requirement already satisfied: colorama in c:\\users\\dell 5520\\anaconda3\\lib\\site-packages (from ipython>=5.3.0->pyvis>=0.3.2->raphtory) (0.4.1)\n",
      "Requirement already satisfied: MarkupSafe>=2.0 in c:\\users\\dell 5520\\anaconda3\\lib\\site-packages (from jinja2>=2.9.6->pyvis>=0.3.2->raphtory) (2.1.5)\n",
      "Requirement already satisfied: six>=1.5 in c:\\users\\dell 5520\\anaconda3\\lib\\site-packages (from python-dateutil>=2.7.3->pandas>=1.3.3->raphtory) (1.12.0)\n",
      "Requirement already satisfied: parso<0.9.0,>=0.8.3 in c:\\users\\dell 5520\\anaconda3\\lib\\site-packages (from jedi>=0.16->ipython>=5.3.0->pyvis>=0.3.2->raphtory) (0.8.4)\n",
      "Requirement already satisfied: wcwidth in c:\\users\\dell 5520\\anaconda3\\lib\\site-packages (from prompt-toolkit!=3.0.0,!=3.0.1,<3.1.0,>=2.0.0->ipython>=5.3.0->pyvis>=0.3.2->raphtory) (0.1.7)\n",
      "Note: you may need to restart the kernel to use updated packages.\n"
     ]
    },
    {
     "name": "stderr",
     "output_type": "stream",
     "text": [
      "WARNING: Ignoring invalid distribution -illow (c:\\users\\dell 5520\\anaconda3\\lib\\site-packages)\n",
      "WARNING: Ignoring invalid distribution -illow (c:\\users\\dell 5520\\anaconda3\\lib\\site-packages)\n"
     ]
    }
   ],
   "source": [
    "pip install raphtory"
   ]
  },
  {
   "cell_type": "code",
   "execution_count": 8,
   "metadata": {},
   "outputs": [
    {
     "ename": "ImportError",
     "evalue": "cannot import name 'PersistentGraph' from 'raphtory' (c:\\Users\\Dell 5520\\Anaconda3\\lib\\site-packages\\raphtory\\__init__.py)",
     "output_type": "error",
     "traceback": [
      "\u001b[1;31m---------------------------------------------------------------------------\u001b[0m",
      "\u001b[1;31mImportError\u001b[0m                               Traceback (most recent call last)",
      "\u001b[1;32m~\\AppData\\Local\\Temp\\ipykernel_14492\\3913803472.py\u001b[0m in \u001b[0;36m<module>\u001b[1;34m\u001b[0m\n\u001b[1;32m----> 1\u001b[1;33m \u001b[1;32mfrom\u001b[0m \u001b[0mraphtory\u001b[0m \u001b[1;32mimport\u001b[0m \u001b[0mPersistentGraph\u001b[0m \u001b[1;31m# PersistentGraph - a temporal graph that allows edges and nodes to be deleted.\u001b[0m\u001b[1;33m\u001b[0m\u001b[1;33m\u001b[0m\u001b[0m\n\u001b[0m\u001b[0;32m      2\u001b[0m \u001b[1;32mfrom\u001b[0m \u001b[0mraphtory\u001b[0m \u001b[1;32mimport\u001b[0m \u001b[0malgorithms\u001b[0m \u001b[1;32mas\u001b[0m \u001b[0malgo\u001b[0m\u001b[1;33m\u001b[0m\u001b[1;33m\u001b[0m\u001b[0m\n\u001b[0;32m      3\u001b[0m \u001b[1;32mfrom\u001b[0m \u001b[0mraphtory\u001b[0m \u001b[1;32mimport\u001b[0m \u001b[0malgorithms\u001b[0m \u001b[1;32mas\u001b[0m \u001b[0malgo\u001b[0m\u001b[1;33m\u001b[0m\u001b[1;33m\u001b[0m\u001b[0m\n\u001b[0;32m      4\u001b[0m \u001b[1;32mimport\u001b[0m \u001b[0mpandas\u001b[0m \u001b[1;32mas\u001b[0m \u001b[0mpd\u001b[0m\u001b[1;33m\u001b[0m\u001b[1;33m\u001b[0m\u001b[0m\n",
      "\u001b[1;31mImportError\u001b[0m: cannot import name 'PersistentGraph' from 'raphtory' (c:\\Users\\Dell 5520\\Anaconda3\\lib\\site-packages\\raphtory\\__init__.py)"
     ]
    }
   ],
   "source": [
    "from raphtory import PersistentGraph # PersistentGraph - a temporal graph that allows edges and nodes to be deleted.\n",
    "from raphtory import algorithms as algo\n",
    "from raphtory import algorithms as algo\n",
    "import pandas as pd"
   ]
  },
  {
   "cell_type": "code",
   "execution_count": 9,
   "metadata": {},
   "outputs": [
    {
     "ename": "NameError",
     "evalue": "name 'PersistentGraph' is not defined",
     "output_type": "error",
     "traceback": [
      "\u001b[1;31m---------------------------------------------------------------------------\u001b[0m",
      "\u001b[1;31mNameError\u001b[0m                                 Traceback (most recent call last)",
      "\u001b[1;32m~\\AppData\\Local\\Temp\\ipykernel_14492\\57443415.py\u001b[0m in \u001b[0;36m<module>\u001b[1;34m\u001b[0m\n\u001b[0;32m      1\u001b[0m \u001b[1;31m# Raphtory library\u001b[0m\u001b[1;33m\u001b[0m\u001b[1;33m\u001b[0m\u001b[1;33m\u001b[0m\u001b[0m\n\u001b[0;32m      2\u001b[0m \u001b[1;33m\u001b[0m\u001b[0m\n\u001b[1;32m----> 3\u001b[1;33m \u001b[0mG\u001b[0m \u001b[1;33m=\u001b[0m \u001b[0mPersistentGraph\u001b[0m\u001b[1;33m(\u001b[0m\u001b[1;33m)\u001b[0m\u001b[1;33m\u001b[0m\u001b[1;33m\u001b[0m\u001b[0m\n\u001b[0m\u001b[0;32m      4\u001b[0m \u001b[1;33m\u001b[0m\u001b[0m\n\u001b[0;32m      5\u001b[0m \u001b[1;32mfor\u001b[0m \u001b[0m_\u001b[0m\u001b[1;33m,\u001b[0m \u001b[0mnode\u001b[0m \u001b[1;32min\u001b[0m \u001b[0mmetadata\u001b[0m\u001b[1;33m.\u001b[0m\u001b[0miterrows\u001b[0m\u001b[1;33m(\u001b[0m\u001b[1;33m)\u001b[0m\u001b[1;33m:\u001b[0m\u001b[1;33m\u001b[0m\u001b[1;33m\u001b[0m\u001b[0m\n",
      "\u001b[1;31mNameError\u001b[0m: name 'PersistentGraph' is not defined"
     ]
    }
   ],
   "source": [
    "# Raphtory library\n",
    "\n",
    "G = PersistentGraph()\n",
    "\n",
    "for _, node in metadata.iterrows():\n",
    "    G.add_vertex(id=node['id'], properties={'grade': node['grade'], 'gender': node['gender']}, timestamp=0)\n",
    "\n",
    "for _, edge in df.iterrows():\n",
    "    G.add_edge(src =edge['u'], dst=edge['v'], timestamp=edge['time'])\n",
    "    G.delete_edge(src =edge['u'], dst=edge['v'], timestamp=edge['time']+1)\n",
    "\n",
    "print(G)"
   ]
  },
  {
   "cell_type": "code",
   "execution_count": null,
   "metadata": {},
   "outputs": [],
   "source": [
    "# Reticula library"
   ]
  }
 ],
 "metadata": {
  "kernelspec": {
   "display_name": "base",
   "language": "python",
   "name": "python3"
  },
  "language_info": {
   "codemirror_mode": {
    "name": "ipython",
    "version": 3
   },
   "file_extension": ".py",
   "mimetype": "text/x-python",
   "name": "python",
   "nbconvert_exporter": "python",
   "pygments_lexer": "ipython3",
   "version": "3.7.3"
  }
 },
 "nbformat": 4,
 "nbformat_minor": 2
}
